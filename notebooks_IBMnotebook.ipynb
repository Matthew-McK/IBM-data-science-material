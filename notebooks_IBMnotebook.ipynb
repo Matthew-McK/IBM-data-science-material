{
  "metadata": {
    "language_info": {
      "codemirror_mode": {
        "name": "python",
        "version": 3
      },
      "file_extension": ".py",
      "mimetype": "text/x-python",
      "name": "python",
      "nbconvert_exporter": "python",
      "pygments_lexer": "ipython3",
      "version": "3.8"
    },
    "kernelspec": {
      "name": "python",
      "display_name": "Python (Pyodide)",
      "language": "python"
    }
  },
  "nbformat_minor": 4,
  "nbformat": 4,
  "cells": [
    {
      "cell_type": "markdown",
      "source": "<h1> My Jupyter Notebook on IBM Watson Studio </h1>",
      "metadata": {}
    },
    {
      "cell_type": "markdown",
      "source": "<b> Matthew McKernan </b>\n\nCurrent occupation: Student; Desired occupation: Data scientist",
      "metadata": {}
    },
    {
      "cell_type": "markdown",
      "source": "<i> I am interested in data science because I enjoy problem solving using math and programming. </i>",
      "metadata": {}
    },
    {
      "cell_type": "markdown",
      "source": "<h3> My code will add two numbers together </h3>",
      "metadata": {}
    },
    {
      "cell_type": "code",
      "source": "def addition(x, y):\n    return x + y\n\naddition(1, 2)",
      "metadata": {
        "trusted": true
      },
      "execution_count": 2,
      "outputs": [
        {
          "execution_count": 2,
          "output_type": "execute_result",
          "data": {
            "text/plain": "3"
          },
          "metadata": {}
        }
      ]
    },
    {
      "cell_type": "markdown",
      "source": "<ol>\n    <li> This </li>\n    <li> is </li>\n    <li> a </li>\n    <li> list </li>\n    </ol>\n   \n   \n<ul>\n    <li> Bulleted </li>\n    <li> List </li>\n    </ul>\n    \n[Link to Google homepage](https://www.google.com)",
      "metadata": {}
    }
  ]
}